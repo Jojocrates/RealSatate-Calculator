{
  "nbformat": 4,
  "nbformat_minor": 0,
  "metadata": {
    "colab": {
      "provenance": [],
      "authorship_tag": "ABX9TyPmc4wCrpm+XWzlkvcDiMkU",
      "include_colab_link": true
    },
    "kernelspec": {
      "name": "python3",
      "display_name": "Python 3"
    },
    "language_info": {
      "name": "python"
    }
  },
  "cells": [
    {
      "cell_type": "markdown",
      "metadata": {
        "id": "view-in-github",
        "colab_type": "text"
      },
      "source": [
        "<a href=\"https://colab.research.google.com/github/Jojocrates/RealSatate-Calculator/blob/main/Propiedades_y_Pagos.ipynb\" target=\"_parent\"><img src=\"https://colab.research.google.com/assets/colab-badge.svg\" alt=\"Open In Colab\"/></a>"
      ]
    },
    {
      "cell_type": "markdown",
      "source": [
        "#Explicación\n",
        "\n",
        "El siguiente código calcula cuanto tardas en pagar un bien inmueble **en su totalidad** asumiendo que vas a ponerlo a la renta y utilizar esas ganancias para pagar el préstamo.\n",
        "\n",
        "El código da varios esenarios donde ahorras una cantidad de años para reducir el préstamo y el resto del tiempo pones la propiedad a la renta. El código tambien elige el escenario donde se minimiza el tiempo.\n",
        "\n"
      ],
      "metadata": {
        "id": "eBJSHyKPnHvB"
      }
    },
    {
      "cell_type": "code",
      "execution_count": 3,
      "metadata": {
        "id": "AbmnOzpp2BIb",
        "outputId": "2e515e9d-3a2c-422c-dbd0-948f70b3cd9b",
        "colab": {
          "base_uri": "https://localhost:8080/"
        }
      },
      "outputs": [
        {
          "output_type": "stream",
          "name": "stdout",
          "text": [
            "Ingrese el costo total de la propiedad: 2500000\n",
            "Ingrese la tasa de interés anual (porcentaje): 11\n",
            "Ingrese el pago mensual que puede realizar: 15000\n",
            "Ingrese el ingreso mensual por renta: 15000\n",
            "Si ahorras 1 años, tardarías 12 años y 4 meses.\n",
            "Si ahorras 2 años, tardarías 11 años y 9 meses.\n",
            "Si ahorras 3 años, tardarías 11 años y 5 meses.\n",
            "Si ahorras 4 años, tardarías 11 años y 3 meses.\n",
            "Si ahorras 5 años, tardarías 11 años y 2 meses.\n",
            "Si ahorras 6 años, tardarías 11 años y 3 meses.\n",
            "Si ahorras 7 años, tardarías 11 años y 5 meses.\n",
            "Si ahorras 8 años, tardarías 11 años y 7 meses.\n",
            "Si ahorras 9 años, tardarías 11 años y 11 meses.\n",
            "Si ahorras 10 años, tardarías 12 años y 3 meses.\n",
            "Si ahorras 11 años, tardarías 12 años y 7 meses.\n",
            "Si ahorras 12 años, tardarías 13 años y 1 meses.\n",
            "Si ahorras 13 años, tardarías 13 años y 6 meses.\n",
            "Si ahorras 14 años, tardarías 14 años y 0 meses.\n",
            "\n",
            "La opción más rápida es: Ahorras 5 años, tardarías 11 años y 2 meses.\n",
            "Recuerda que este programa no toma en cuenta cuanto puede subir el valor de una propiedad mientras ahorras\n"
          ]
        }
      ],
      "source": [
        "import math\n",
        "\n",
        "def calcular_tiempo_pago_propiedad():\n",
        "    # Solicitar datos al usuario\n",
        "    costo_propiedad = float(input(\"Ingrese el costo total de la propiedad: \"))\n",
        "    tasa_interes_anual = float(input(\"Ingrese la tasa de interés anual (porcentaje): \")) / 100\n",
        "    pago_mensual = float(input(\"Ingrese el pago mensual que puede realizar: \"))\n",
        "    ingreso_renta = float(input(\"Ingrese el ingreso mensual por renta: \"))\n",
        "\n",
        "    opciones = []  # Lista para almacenar las opciones\n",
        "    max_iteraciones = 1000  # Número máximo de iteraciones del ciclo while\n",
        "\n",
        "    # Calcular y mostrar diferentes escenarios de ahorro para el enganche\n",
        "    for anios_enganche in range(0, 31):  # Consideramos hasta 30 años de ahorro para el enganche\n",
        "        ahorro_enganche = anios_enganche * 12 * pago_mensual  # Ahorro mensual acumulado\n",
        "\n",
        "        saldo_pendiente = costo_propiedad - ahorro_enganche\n",
        "        meses = 0\n",
        "\n",
        "        while saldo_pendiente > 0 and meses < max_iteraciones:\n",
        "            intereses = saldo_pendiente * tasa_interes_anual / 12\n",
        "            saldo_pendiente -= (pago_mensual + ingreso_renta - intereses)\n",
        "            meses += 1\n",
        "\n",
        "            if saldo_pendiente <= 0:\n",
        "                anios = meses // 12\n",
        "                meses_restantes = meses % 12\n",
        "                if anios_enganche > 0:\n",
        "                    print(f\"Si ahorras {anios_enganche} años, tardarías {anios + anios_enganche} años y {meses_restantes} meses.\")\n",
        "                    opciones.append((f\"Ahorras {anios_enganche} años\", anios + anios_enganche, meses_restantes))\n",
        "\n",
        "                break\n",
        "\n",
        "    opciones.append((f\"Ahorras {math.ceil(costo_propiedad / (pago_mensual*12))} años\", math.ceil(costo_propiedad / (pago_mensual*12)), 0))\n",
        "\n",
        "    print(\"Si ahorras\", math.ceil(costo_propiedad / (pago_mensual*12)),\"años, tardarías\", math.ceil(costo_propiedad / (pago_mensual*12)), \"años y 0 meses.\")\n",
        "\n",
        "    # Encontrar la opción más rápida\n",
        "    opcion_rapida = min(opciones, key=lambda x: (x[1], x[2]))\n",
        "    print(f\"\\nLa opción más rápida es: {opcion_rapida[0]}, tardarías {opcion_rapida[1]} años y {opcion_rapida[2]} meses.\")\n",
        "    print(\"Recuerda que este programa no toma en cuenta cuanto puede subir el valor de una propiedad mientras ahorras\")\n",
        "\n",
        "calcular_tiempo_pago_propiedad()"
      ]
    },
    {
      "cell_type": "code",
      "source": [],
      "metadata": {
        "id": "xiuYjnVNnpb1"
      },
      "execution_count": null,
      "outputs": []
    }
  ]
}